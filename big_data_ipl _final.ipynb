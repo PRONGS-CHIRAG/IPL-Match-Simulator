{
 "cells": [
  {
   "cell_type": "code",
   "execution_count": 1,
   "metadata": {},
   "outputs": [],
   "source": [
    "import numpy as np\n",
    "import pandas as pd\n",
    "from numpy import array\n",
    "from math import sqrt\n",
    "from pyspark.mllib.clustering import KMeans, KMeansModel\n",
    "from pyspark.ml.feature import VectorAssembler\n",
    "from pyspark.ml.clustering import KMeans\n",
    "import matplotlib.pyplot as plt\n",
    "\n",
    "from pyspark.sql.functions import col\n"
   ]
  },
  {
   "cell_type": "code",
   "execution_count": 2,
   "metadata": {},
   "outputs": [
    {
     "name": "stdout",
     "output_type": "stream",
     "text": [
      "+---------------+-------------+-------------+------------+---------------+------------+-------------------+\n",
      "|    player_name|runs_conceded|wickets_taken|overs_bowled|bowling_average|economy_rate|bowling_strike_rate|\n",
      "+---------------+-------------+-------------+------------+---------------+------------+-------------------+\n",
      "| A Ashish Reddy|          396|           18|        43.4|             22|        9.12|              14.47|\n",
      "|     A Chandila|          242|           11|          39|             22|        6.21|              21.27|\n",
      "|    A Choudhary|          144|            5|        16.5|           28.8|        8.73|               19.8|\n",
      "|    A Dananjaya|           47|            0|           4|           null|       11.75|               null|\n",
      "|     A Flintoff|          105|            2|          11|           52.5|        9.55|                 33|\n",
      "|       A Kumble|         1058|           45|       160.5|          23.51|        6.59|               21.4|\n",
      "|       A Mishra|         3525|          146|       476.5|          24.14|         7.4|              19.58|\n",
      "|       A Mithun|          472|            7|          48|          67.43|        9.83|              41.14|\n",
      "|        A Nehra|         2495|          106|       317.6|          23.54|        7.86|              17.98|\n",
      "|          A Nel|           31|            1|           3|             31|       10.33|                 18|\n",
      "|        A Singh|          620|           28|        78.5|          22.14|         7.9|              16.82|\n",
      "|      A Symonds|          674|           20|        87.5|           33.7|         7.7|              26.25|\n",
      "|       A Uniyal|           66|            2|           6|             33|          11|                 18|\n",
      "|        A Zampa|          278|           19|        36.5|          14.63|        7.62|              11.53|\n",
      "|      AA Chavan|          326|            8|        41.2|          40.75|        7.91|               30.9|\n",
      "|AA Jhunjhunwala|          129|            1|        14.1|            129|        9.15|               84.6|\n",
      "|        AA Kazi|           21|            0|           2|           null|        10.5|               null|\n",
      "|      AA Noffke|           40|            1|           4|             40|          10|                 24|\n",
      "|     AB Agarkar|         1151|           29|       130.2|          39.69|        8.84|              26.94|\n",
      "|       AB Dinda|         2073|           69|       252.4|          30.04|        8.21|              21.95|\n",
      "+---------------+-------------+-------------+------------+---------------+------------+-------------------+\n",
      "only showing top 20 rows\n",
      "\n",
      "+---------------+-----------+-----------+---------+---------------+-----------+\n",
      "|    player_name|runs_scored|balls_faced|times_out|batting_average|strike_rate|\n",
      "+---------------+-----------+-----------+---------+---------------+-----------+\n",
      "| A Ashish Reddy|        280|        193|       15|          18.67|     145.08|\n",
      "|       A Chopra|         53|         71|        6|           8.83|      74.65|\n",
      "|    A Choudhary|         25|         20|        1|           25.0|      125.0|\n",
      "|     A Flintoff|         62|         53|        2|           31.0|     116.98|\n",
      "|       A Kumble|         35|         47|        3|          11.67|      74.47|\n",
      "|       A Mishra|        341|        365|       29|          11.76|      93.42|\n",
      "|       A Mithun|         34|         26|        5|            6.8|     130.77|\n",
      "|       A Mukund|         19|         22|        2|            9.5|      86.36|\n",
      "|        A Nehra|         41|         62|        7|           5.86|      66.13|\n",
      "|        A Singh|          2|         10|        4|            0.5|       20.0|\n",
      "|      A Symonds|        974|        750|       27|          36.07|     129.87|\n",
      "|       A Uniyal|          4|          7|        1|            4.0|      57.14|\n",
      "|        A Zampa|          5|          8|        2|            2.5|       62.5|\n",
      "|    AA Bilakhia|         69|         85|        5|           13.8|      81.18|\n",
      "|      AA Chavan|         12|         11|        2|            6.0|     109.09|\n",
      "|AA Jhunjhunwala|        217|        210|       13|          16.69|     103.33|\n",
      "|      AA Noffke|          9|         10|        1|            9.0|       90.0|\n",
      "|     AB Agarkar|        179|        154|       10|           17.9|     116.23|\n",
      "|      AB Barath|         42|         42|        2|           21.0|      100.0|\n",
      "|       AB Dinda|         26|         48|       10|            2.6|      54.17|\n",
      "+---------------+-----------+-----------+---------+---------------+-----------+\n",
      "only showing top 20 rows\n",
      "\n"
     ]
    }
   ],
   "source": [
    "spark.version\n",
    "sqlContext = SQLContext(sc)\n",
    "batting=sqlContext.read.csv(\"/home/anup/bdProject/bd/stats_batting_2.csv\", header=True, mode=\"DROPMALFORMED\")\n",
    "bowling=sqlContext.read.csv(\"/home/anup/bdProject/bd/stats_bowling_1 .csv\", header=True, mode=\"DROPMALFORMED\")\n",
    "bowling.show()\n",
    "batting.show()"
   ]
  },
  {
   "cell_type": "code",
   "execution_count": 3,
   "metadata": {
    "scrolled": true
   },
   "outputs": [],
   "source": [
    "batting.na.drop()\n",
    "bowling=bowling.na.drop()\n",
    "\n",
    "FEATURES_COL=[\"runs_scored\",\"balls_faced\",\"times_out\",\"batting_average\",\"strike_rate\"]\n",
    "FEATURES_COL_BOWL=[\"runs_conceded\",\"wickets_taken\",\"overs_bowled\",\"bowling_average\",\"economy_rate\",\"bowling_strike_rate\"]\n",
    "\n",
    "# df_feat = batting.select(*(batting[c].cast(\"float\").alias(c) for c in batting.columns[1:]))\n",
    "# df_feat_bowl = bowling.select(*(bowling[c].cast(\"float\").alias(c) for c in bowling.columns[1:]))\n",
    "\n",
    "# df_feat_bowl.show()\n",
    "# df_feat.show()"
   ]
  },
  {
   "cell_type": "code",
   "execution_count": 4,
   "metadata": {},
   "outputs": [
    {
     "name": "stdout",
     "output_type": "stream",
     "text": [
      "+---------------+-----------+-----------+---------+---------------+-----------+\n",
      "|    player_name|runs_scored|balls_faced|times_out|batting_average|strike_rate|\n",
      "+---------------+-----------+-----------+---------+---------------+-----------+\n",
      "| A Ashish Reddy|      280.0|      193.0|     15.0|          18.67|     145.08|\n",
      "|       A Chopra|       53.0|       71.0|      6.0|           8.83|      74.65|\n",
      "|    A Choudhary|       25.0|       20.0|      1.0|           25.0|      125.0|\n",
      "|     A Flintoff|       62.0|       53.0|      2.0|           31.0|     116.98|\n",
      "|       A Kumble|       35.0|       47.0|      3.0|          11.67|      74.47|\n",
      "|       A Mishra|      341.0|      365.0|     29.0|          11.76|      93.42|\n",
      "|       A Mithun|       34.0|       26.0|      5.0|            6.8|     130.77|\n",
      "|       A Mukund|       19.0|       22.0|      2.0|            9.5|      86.36|\n",
      "|        A Nehra|       41.0|       62.0|      7.0|           5.86|      66.13|\n",
      "|        A Singh|        2.0|       10.0|      4.0|            0.5|       20.0|\n",
      "|      A Symonds|      974.0|      750.0|     27.0|          36.07|     129.87|\n",
      "|       A Uniyal|        4.0|        7.0|      1.0|            4.0|      57.14|\n",
      "|        A Zampa|        5.0|        8.0|      2.0|            2.5|       62.5|\n",
      "|    AA Bilakhia|       69.0|       85.0|      5.0|           13.8|      81.18|\n",
      "|      AA Chavan|       12.0|       11.0|      2.0|            6.0|     109.09|\n",
      "|AA Jhunjhunwala|      217.0|      210.0|     13.0|          16.69|     103.33|\n",
      "|      AA Noffke|        9.0|       10.0|      1.0|            9.0|       90.0|\n",
      "|     AB Agarkar|      179.0|      154.0|     10.0|           17.9|     116.23|\n",
      "|      AB Barath|       42.0|       42.0|      2.0|           21.0|      100.0|\n",
      "|       AB Dinda|       26.0|       48.0|     10.0|            2.6|      54.17|\n",
      "+---------------+-----------+-----------+---------+---------------+-----------+\n",
      "only showing top 20 rows\n",
      "\n",
      "+---------------+-------------+-------------+------------+---------------+------------+-------------------+\n",
      "|    player_name|runs_conceded|wickets_taken|overs_bowled|bowling_average|economy_rate|bowling_strike_rate|\n",
      "+---------------+-------------+-------------+------------+---------------+------------+-------------------+\n",
      "| A Ashish Reddy|        396.0|         18.0|        43.4|           22.0|        9.12|              14.47|\n",
      "|     A Chandila|        242.0|         11.0|        39.0|           22.0|        6.21|              21.27|\n",
      "|    A Choudhary|        144.0|          5.0|        16.5|           28.8|        8.73|               19.8|\n",
      "|     A Flintoff|        105.0|          2.0|        11.0|           52.5|        9.55|               33.0|\n",
      "|       A Kumble|       1058.0|         45.0|       160.5|          23.51|        6.59|               21.4|\n",
      "|       A Mishra|       3525.0|        146.0|       476.5|          24.14|         7.4|              19.58|\n",
      "|       A Mithun|        472.0|          7.0|        48.0|          67.43|        9.83|              41.14|\n",
      "|        A Nehra|       2495.0|        106.0|       317.6|          23.54|        7.86|              17.98|\n",
      "|          A Nel|         31.0|          1.0|         3.0|           31.0|       10.33|               18.0|\n",
      "|        A Singh|        620.0|         28.0|        78.5|          22.14|         7.9|              16.82|\n",
      "|      A Symonds|        674.0|         20.0|        87.5|           33.7|         7.7|              26.25|\n",
      "|       A Uniyal|         66.0|          2.0|         6.0|           33.0|        11.0|               18.0|\n",
      "|        A Zampa|        278.0|         19.0|        36.5|          14.63|        7.62|              11.53|\n",
      "|      AA Chavan|        326.0|          8.0|        41.2|          40.75|        7.91|               30.9|\n",
      "|AA Jhunjhunwala|        129.0|          1.0|        14.1|          129.0|        9.15|               84.6|\n",
      "|      AA Noffke|         40.0|          1.0|         4.0|           40.0|        10.0|               24.0|\n",
      "|     AB Agarkar|       1151.0|         29.0|       130.2|          39.69|        8.84|              26.94|\n",
      "|       AB Dinda|       2073.0|         69.0|       252.4|          30.04|        8.21|              21.95|\n",
      "|    AB McDonald|        261.0|         11.0|        31.0|          23.73|        8.42|              16.91|\n",
      "|   AC Gilchrist|          0.0|          1.0|         0.1|            0.0|         0.0|                0.6|\n",
      "+---------------+-------------+-------------+------------+---------------+------------+-------------------+\n",
      "only showing top 20 rows\n",
      "\n"
     ]
    }
   ],
   "source": [
    "for col in batting.columns:\n",
    "    if col in FEATURES_COL:\n",
    "        batting = batting.withColumn(col,batting[col].cast('float'))\n",
    "batting.show()\n",
    "\n",
    "for col in bowling.columns:\n",
    "    if col in FEATURES_COL_BOWL:\n",
    "        bowling = bowling.withColumn(col,bowling[col].cast('float'))\n",
    "bowling.show()"
   ]
  },
  {
   "cell_type": "code",
   "execution_count": 5,
   "metadata": {},
   "outputs": [
    {
     "name": "stdout",
     "output_type": "stream",
     "text": [
      "+---------------+--------------------+\n",
      "|    player_name|            features|\n",
      "+---------------+--------------------+\n",
      "| A Ashish Reddy|[280.0,193.0,15.0...|\n",
      "|       A Chopra|[53.0,71.0,6.0,8....|\n",
      "|    A Choudhary|[25.0,20.0,1.0,25...|\n",
      "|     A Flintoff|[62.0,53.0,2.0,31...|\n",
      "|       A Kumble|[35.0,47.0,3.0,11...|\n",
      "|       A Mishra|[341.0,365.0,29.0...|\n",
      "|       A Mithun|[34.0,26.0,5.0,6....|\n",
      "|       A Mukund|[19.0,22.0,2.0,9....|\n",
      "|        A Nehra|[41.0,62.0,7.0,5....|\n",
      "|        A Singh|[2.0,10.0,4.0,0.5...|\n",
      "|      A Symonds|[974.0,750.0,27.0...|\n",
      "|       A Uniyal|[4.0,7.0,1.0,4.0,...|\n",
      "|        A Zampa|[5.0,8.0,2.0,2.5,...|\n",
      "|    AA Bilakhia|[69.0,85.0,5.0,13...|\n",
      "|      AA Chavan|[12.0,11.0,2.0,6....|\n",
      "|AA Jhunjhunwala|[217.0,210.0,13.0...|\n",
      "|      AA Noffke|[9.0,10.0,1.0,9.0...|\n",
      "|     AB Agarkar|[179.0,154.0,10.0...|\n",
      "|      AB Barath|[42.0,42.0,2.0,21...|\n",
      "|       AB Dinda|[26.0,48.0,10.0,2...|\n",
      "+---------------+--------------------+\n",
      "only showing top 20 rows\n",
      "\n",
      "+---------------+--------------------+\n",
      "|    player_name|       features_bowl|\n",
      "+---------------+--------------------+\n",
      "| A Ashish Reddy|[396.0,18.0,43.40...|\n",
      "|     A Chandila|[242.0,11.0,39.0,...|\n",
      "|    A Choudhary|[144.0,5.0,16.5,2...|\n",
      "|     A Flintoff|[105.0,2.0,11.0,5...|\n",
      "|       A Kumble|[1058.0,45.0,160....|\n",
      "|       A Mishra|[3525.0,146.0,476...|\n",
      "|       A Mithun|[472.0,7.0,48.0,6...|\n",
      "|        A Nehra|[2495.0,106.0,317...|\n",
      "|          A Nel|[31.0,1.0,3.0,31....|\n",
      "|        A Singh|[620.0,28.0,78.5,...|\n",
      "|      A Symonds|[674.0,20.0,87.5,...|\n",
      "|       A Uniyal|[66.0,2.0,6.0,33....|\n",
      "|        A Zampa|[278.0,19.0,36.5,...|\n",
      "|      AA Chavan|[326.0,8.0,41.200...|\n",
      "|AA Jhunjhunwala|[129.0,1.0,14.100...|\n",
      "|      AA Noffke|[40.0,1.0,4.0,40....|\n",
      "|     AB Agarkar|[1151.0,29.0,130....|\n",
      "|       AB Dinda|[2073.0,69.0,252....|\n",
      "|    AB McDonald|[261.0,11.0,31.0,...|\n",
      "|   AC Gilchrist|[0.0,1.0,0.100000...|\n",
      "+---------------+--------------------+\n",
      "only showing top 20 rows\n",
      "\n"
     ]
    }
   ],
   "source": [
    "vecAssembler = VectorAssembler(inputCols=FEATURES_COL, outputCol=\"features\")\n",
    "df_kmeans = vecAssembler.transform(batting).select('player_name', 'features')\n",
    "df_kmeans.show()\n",
    "\n",
    "vecAssembler_bowl = VectorAssembler(inputCols=FEATURES_COL_BOWL, outputCol=\"features_bowl\")\n",
    "df_kmeans_bowl = vecAssembler_bowl.transform(bowling).select('player_name', 'features_bowl')\n",
    "df_kmeans_bowl.show()\n"
   ]
  },
  {
   "cell_type": "code",
   "execution_count": 6,
   "metadata": {},
   "outputs": [],
   "source": [
    "cost = np.zeros(20)\n",
    "for k in range(2,20):\n",
    "    kmeans = KMeans().setK(k).setSeed(1).setFeaturesCol(\"features\")\n",
    "    model = kmeans.fit(df_kmeans.sample(False,0.1, seed=42))\n",
    "    cost[k] = model.computeCost(df_kmeans) # requires Spark 2.0 or later\n",
    "\n",
    "cost_bowl = np.zeros(20)\n",
    "for k in range(2,20):\n",
    "    kmeans = KMeans().setK(k).setSeed(1).setFeaturesCol(\"features_bowl\")\n",
    "    model = kmeans.fit(df_kmeans_bowl.sample(False,0.1, seed=42))\n",
    "    cost_bowl[k] = model.computeCost(df_kmeans_bowl) # requires Spark 2.0 or later"
   ]
  },
  {
   "cell_type": "code",
   "execution_count": 7,
   "metadata": {},
   "outputs": [
    {
     "data": {
      "text/plain": [
       "Text(0,0.5,'cost_bowl')"
      ]
     },
     "execution_count": 7,
     "metadata": {},
     "output_type": "execute_result"
    },
    {
     "data": {
      "image/png": "[encoded data removed]",
      "text/plain": [
       "<Figure size 576x432 with 1 Axes>"
      ]
     },
     "metadata": {
      "needs_background": "light"
     },
     "output_type": "display_data"
    },
    {
     "data": {
      "image/png": "[encoded data removed]",
      "text/plain": [
       "<Figure size 576x432 with 1 Axes>"
      ]
     },
     "metadata": {
      "needs_background": "light"
     },
     "output_type": "display_data"
    }
   ],
   "source": [
    "fig, ax = plt.subplots(1,1, figsize =(8,6))\n",
    "ax.plot(range(2,20),cost[2:20])\n",
    "ax.set_xlabel('k')\n",
    "ax.set_ylabel('cost')\n",
    "\n",
    "fig, ax = plt.subplots(1,1, figsize =(8,6))\n",
    "ax.plot(range(2,20),cost_bowl[2:20])\n",
    "ax.set_xlabel('k')\n",
    "ax.set_ylabel('cost_bowl')"
   ]
  },
  {
   "cell_type": "code",
   "execution_count": 8,
   "metadata": {},
   "outputs": [
    {
     "name": "stdout",
     "output_type": "stream",
     "text": [
      "Cluster Centers: \n",
      "[ 51.79365079  47.47619048   4.51587302  13.96126986 116.29238098]\n",
      "[4280.7        3163.7         121.3          35.89699993  136.13399887]\n",
      "[3177.83333333 2406.5         107.16666667   29.78499985  132.72333272]\n",
      "[1656.5        1322.75         59.3          28.65249996  125.33500061]\n",
      "[351.65909091 291.90909091  19.15909091  20.25136369 121.2375008 ]\n",
      "[1079.53846154  826.57692308   38.80769231   28.98153841  131.08577024]\n",
      "[2468.18181818 1946.           87.81818182   28.80999999  127.7018176 ]\n",
      "[160.28985507 135.76811594   9.15942029  19.9053622  120.28449305]\n",
      "[10.624     16.192      2.152      5.37216   60.8750401]\n",
      "[672.51851852 515.14814815  29.77777778  23.97703718 131.61740847]\n",
      "Cluster Centers: \n",
      "[395.69072165  13.28865979  47.8329896   33.6718556    8.32896904\n",
      "  24.15298963]\n",
      "[3478.4         129.2         455.95999756   27.59199982    7.66999989\n",
      "   21.67400017]\n",
      "[2251.92857143   82.85714286  292.14285605   27.81071431    7.7621429\n",
      "   21.50214304]\n",
      "[117.5          3.71641791  13.7977612   38.28671639   8.68417907\n",
      "  25.68388058]\n",
      "[947.85714286  32.24489796 118.9510196   30.44040812   7.98244902\n",
      "  22.90040812]\n",
      "[1646.9          59.25        211.91500092   28.71599998    7.78900003\n",
      "   22.26350002]\n",
      "[2838.11111111  107.44444444  374.1222229    27.11444473    7.6233333\n",
      "   21.30555534]\n"
     ]
    }
   ],
   "source": [
    "k = 10\n",
    "kmeans = KMeans().setK(k).setSeed(1).setFeaturesCol(\"features\")\n",
    "model = kmeans.fit(df_kmeans)\n",
    "centers = model.clusterCenters()\n",
    "\n",
    "print(\"Cluster Centers: \")\n",
    "for center in centers:\n",
    "    print(center)\n",
    "\n",
    "k = 7\n",
    "kmeans_bowl = KMeans().setK(k).setSeed(1).setFeaturesCol(\"features_bowl\")\n",
    "model_bowl = kmeans_bowl.fit(df_kmeans_bowl)\n",
    "centers_bowl = model_bowl.clusterCenters()\n",
    "\n",
    "print(\"Cluster Centers: \")\n",
    "for center in centers_bowl:\n",
    "    print(center)\n"
   ]
  },
  {
   "cell_type": "code",
   "execution_count": 9,
   "metadata": {},
   "outputs": [
    {
     "name": "stdout",
     "output_type": "stream",
     "text": [
      "[Row(player_name='A Ashish Reddy', prediction=4), Row(player_name='A Chopra', prediction=0), Row(player_name='A Choudhary', prediction=0)]\n",
      "[Row(player_name='A Ashish Reddy', prediction=0), Row(player_name='A Chandila', prediction=3), Row(player_name='A Choudhary', prediction=3)]\n"
     ]
    }
   ],
   "source": [
    "transformed = model.transform(df_kmeans).select('player_name', 'prediction')\n",
    "rows = transformed.collect()\n",
    "print(rows[:3])\n",
    "\n",
    "transformed = model_bowl.transform(df_kmeans_bowl).select('player_name', 'prediction')\n",
    "rows_bowl = transformed.collect()\n",
    "print(rows_bowl[:3])"
   ]
  },
  {
   "cell_type": "code",
   "execution_count": 10,
   "metadata": {},
   "outputs": [
    {
     "name": "stdout",
     "output_type": "stream",
     "text": [
      "+---------------+----------+\n",
      "|    player_name|prediction|\n",
      "+---------------+----------+\n",
      "| A Ashish Reddy|         4|\n",
      "|       A Chopra|         0|\n",
      "|    A Choudhary|         0|\n",
      "|     A Flintoff|         0|\n",
      "|       A Kumble|         8|\n",
      "|       A Mishra|         4|\n",
      "|       A Mithun|         0|\n",
      "|       A Mukund|         8|\n",
      "|        A Nehra|         0|\n",
      "|        A Singh|         8|\n",
      "|      A Symonds|         5|\n",
      "|       A Uniyal|         8|\n",
      "|        A Zampa|         8|\n",
      "|    AA Bilakhia|         0|\n",
      "|      AA Chavan|         8|\n",
      "|AA Jhunjhunwala|         7|\n",
      "|      AA Noffke|         8|\n",
      "|     AB Agarkar|         7|\n",
      "|      AB Barath|         0|\n",
      "|       AB Dinda|         8|\n",
      "+---------------+----------+\n",
      "only showing top 20 rows\n",
      "\n",
      "+---------------+----------+\n",
      "|    player_name|prediction|\n",
      "+---------------+----------+\n",
      "| A Ashish Reddy|         0|\n",
      "|     A Chandila|         3|\n",
      "|    A Choudhary|         3|\n",
      "|     A Flintoff|         3|\n",
      "|       A Kumble|         4|\n",
      "|       A Mishra|         1|\n",
      "|       A Mithun|         0|\n",
      "|        A Nehra|         2|\n",
      "|          A Nel|         3|\n",
      "|        A Singh|         0|\n",
      "|      A Symonds|         4|\n",
      "|       A Uniyal|         3|\n",
      "|        A Zampa|         0|\n",
      "|      AA Chavan|         0|\n",
      "|AA Jhunjhunwala|         3|\n",
      "|      AA Noffke|         3|\n",
      "|     AB Agarkar|         4|\n",
      "|       AB Dinda|         2|\n",
      "|    AB McDonald|         0|\n",
      "|   AC Gilchrist|         3|\n",
      "+---------------+----------+\n",
      "only showing top 20 rows\n",
      "\n"
     ]
    }
   ],
   "source": [
    "df_pred = sqlContext.createDataFrame(rows)\n",
    "df_pred.show()\n",
    "\n",
    "df_pred_bowl = sqlContext.createDataFrame(rows_bowl)\n",
    "df_pred_bowl.show()"
   ]
  },
  {
   "cell_type": "code",
   "execution_count": 12,
   "metadata": {},
   "outputs": [],
   "source": [
    "bat_cluster=df_pred.toPandas()\n",
    "bat_cluster.to_csv(\"/home/anup/bdProject/bd/batting_cluster.csv\")\n",
    "\n",
    "bowl_cluster=df_pred_bowl.toPandas()\n",
    "bowl_cluster.to_csv(\"/home/anup/bdProject/bd/bowling_cluster.csv\")\n"
   ]
  },
  {
   "cell_type": "code",
   "execution_count": 13,
   "metadata": {
    "scrolled": false
   },
   "outputs": [
    {
     "name": "stdout",
     "output_type": "stream",
     "text": [
      "+---------------+----------+\n",
      "|    player_name|prediction|\n",
      "+---------------+----------+\n",
      "| A Ashish Reddy|         4|\n",
      "|       A Chopra|         0|\n",
      "|    A Choudhary|         0|\n",
      "|     A Flintoff|         0|\n",
      "|       A Kumble|         8|\n",
      "|       A Mishra|         4|\n",
      "|       A Mithun|         0|\n",
      "|       A Mukund|         8|\n",
      "|        A Nehra|         0|\n",
      "|        A Singh|         8|\n",
      "|      A Symonds|         5|\n",
      "|       A Uniyal|         8|\n",
      "|        A Zampa|         8|\n",
      "|    AA Bilakhia|         0|\n",
      "|      AA Chavan|         8|\n",
      "|AA Jhunjhunwala|         7|\n",
      "|      AA Noffke|         8|\n",
      "|     AB Agarkar|         7|\n",
      "|      AB Barath|         0|\n",
      "|       AB Dinda|         8|\n",
      "+---------------+----------+\n",
      "only showing top 20 rows\n",
      "\n",
      "+---------------+----------+\n",
      "|    player_name|prediction|\n",
      "+---------------+----------+\n",
      "| A Ashish Reddy|         0|\n",
      "|     A Chandila|         3|\n",
      "|    A Choudhary|         3|\n",
      "|     A Flintoff|         3|\n",
      "|       A Kumble|         4|\n",
      "|       A Mishra|         1|\n",
      "|       A Mithun|         0|\n",
      "|        A Nehra|         2|\n",
      "|          A Nel|         3|\n",
      "|        A Singh|         0|\n",
      "|      A Symonds|         4|\n",
      "|       A Uniyal|         3|\n",
      "|        A Zampa|         0|\n",
      "|      AA Chavan|         0|\n",
      "|AA Jhunjhunwala|         3|\n",
      "|      AA Noffke|         3|\n",
      "|     AB Agarkar|         4|\n",
      "|       AB Dinda|         2|\n",
      "|    AB McDonald|         0|\n",
      "|   AC Gilchrist|         3|\n",
      "+---------------+----------+\n",
      "only showing top 20 rows\n",
      "\n"
     ]
    }
   ],
   "source": [
    "# df_pred = df_pred.join(batting, 'player_name')\n",
    "# df_pred_bowl = df_pred_bowl.join(bowling, 'player_name')\n",
    "df_pred.show()\n",
    "df_pred_bowl.show()\n"
   ]
  },
  {
   "cell_type": "code",
   "execution_count": 40,
   "metadata": {},
   "outputs": [],
   "source": [
    "# pddf_pred = df_pred.toPandas().set_index('player_name')\n",
    "# pddf_pred.to_csv(\"/home/gajendra/Documents/Big_Data/Project/stats_batting_prediction.csv\")"
   ]
  },
  {
   "cell_type": "code",
   "execution_count": 14,
   "metadata": {},
   "outputs": [],
   "source": [
    "batting_prob=sqlContext.read.csv(\"/home/anup/bdProject/bd/r_prob.csv\", header=True, mode=\"DROPMALFORMED\")\n",
    "bowling_prob=sqlContext.read.csv(\"/home/anup/bdProject/bd/wicket.csv\",header=True,mode=\"DROPMALFORMED\")\n",
    "# batting_prob.show()\n",
    "# bowling_prob.show()\n"
   ]
  },
  {
   "cell_type": "code",
   "execution_count": 15,
   "metadata": {},
   "outputs": [
    {
     "name": "stdout",
     "output_type": "stream",
     "text": [
      "+-----+-------------+---------------+-----------------+-----------------+-----------------+---+-----------------+-----------------+--------------+---------------+\n",
      "|index|      batsman|         bowler|               P0|               P1|               P2| P3|               P4|               P6|bowler_cluster|batsman_cluster|\n",
      "+-----+-------------+---------------+-----------------+-----------------+-----------------+---+-----------------+-----------------+--------------+---------------+\n",
      "| 7726|Kuldeep Yadav|      S Aravind|                1|                0|                0|  0|                0|                0|             4|              8|\n",
      "| 7727|Kuldeep Yadav|     TG Southee|              0.2|              0.4|                0|  0|              0.4|                0|             4|              8|\n",
      "| 7723|Kuldeep Yadav|      HH Pandya|0.333333333333333|0.666666666666667|                0|  0|                0|                0|             4|              8|\n",
      "| 7728|Kuldeep Yadav|       TS Mills|                0|              0.5|              0.5|  0|                0|                0|             3|              8|\n",
      "| 7725|Kuldeep Yadav|         P Negi|              0.5|              0.5|                0|  0|                0|                0|             4|              8|\n",
      "| 7724|Kuldeep Yadav|     MG Johnson|              0.5|              0.5|                0|  0|                0|                0|             5|              8|\n",
      "|12872|   S Anirudha|     KA Pollard|0.666666666666667|0.166666666666667|                0|  0|                0|0.166666666666667|             5|              7|\n",
      "|12886|   S Anirudha|      YK Pathan|0.555555555555556|0.333333333333333|                0|  0|0.111111111111111|                0|             5|              7|\n",
      "|12866|   S Anirudha|        B Kumar|                1|                0|                0|  0|                0|                0|             6|              7|\n",
      "|12883|   S Anirudha|      SP Narine|0.333333333333333|0.666666666666667|                0|  0|                0|                0|             2|              7|\n",
      "|12882|   S Anirudha|     SL Malinga|              0.5|0.166666666666667|0.166666666666667|  0|0.166666666666667|                0|             6|              7|\n",
      "|12870|   S Anirudha|      JE Taylor|0.666666666666667|                0|0.333333333333333|  0|                0|                0|             3|              7|\n",
      "|12881|   S Anirudha|Shakib Al Hasan|              0.5|              0.5|                0|  0|                0|                0|             5|              7|\n",
      "|12877|   S Anirudha|       R Bhatia|              0.2|              0.7|                0|  0|              0.1|                0|             2|              7|\n",
      "|12871|   S Anirudha|      JH Kallis|            0.375|             0.25|                0|  0|            0.375|                0|             2|              7|\n",
      "|12873|   S Anirudha|       L Balaji|             0.25|            0.625|            0.125|  0|                0|                0|             2|              7|\n",
      "|12867|   S Anirudha|Harbhajan Singh|             0.75|             0.25|                0|  0|                0|                0|             1|              7|\n",
      "|12875|   S Anirudha|   Pankaj Singh|              0.5|              0.5|                0|  0|                0|                0|             0|              7|\n",
      "|12868|   S Anirudha|  Harmeet Singh|              0.5|              0.5|                0|  0|                0|                0|             4|              7|\n",
      "|12876|   S Anirudha|        PP Ojha|0.333333333333333|0.333333333333333|0.333333333333333|  0|                0|                0|             2|              7|\n",
      "+-----+-------------+---------------+-----------------+-----------------+-----------------+---+-----------------+-----------------+--------------+---------------+\n",
      "only showing top 20 rows\n",
      "\n"
     ]
    }
   ],
   "source": [
    "batting_prob_clus=batting_prob.join(df_pred_bowl,df_pred_bowl.player_name==batting_prob.bowler,'leftouter').select(batting_prob[\"*\"],df_pred_bowl[\"prediction\"])\n",
    "\n",
    "batting_prob_clus=batting_prob_clus.selectExpr(\"_c0 as index\",\"batsman as batsman\",\"bowler as bowler\",\"P0 as P0\",\"P1 as P1\",\"P2 as P2\",\"P3 as P3\",\"P4 as P4\",\"P6 as P6\",\"prediction as bowler_cluster\")\n",
    "batting_prob_clus=batting_prob_clus.join(df_pred,df_pred.player_name==batting_prob_clus.batsman,'leftouter').select(batting_prob_clus[\"*\"],df_pred[\"prediction\"])\n",
    "batting_prob_clus=batting_prob_clus.selectExpr(\"index as index\",\"batsman as batsman\",\"bowler as bowler\",\"P0 as P0\",\"P1 as P1\",\"P2 as P2\",\"P3 as P3\",\"P4 as P4\",\"P6 as P6\",\"bowler_cluster as bowler_cluster\",\"prediction as batsman_cluster\")\n",
    "\n",
    "\n",
    "bowling_prob_clus=bowling_prob.join(df_pred_bowl,df_pred_bowl.player_name==bowling_prob.bowler,'leftouter').select(bowling_prob[\"*\"],df_pred_bowl[\"prediction\"])\n",
    "bowling_prob_clus=bowling_prob_clus.selectExpr(\"_c0 as index\",\"batsman as batsman\",\"bowler as bowler\",\"no_of_times as no_of_times\",\"no_of_balls as no_of_balls\",\"p_out as p_out\",\"p_not_out as p_not_out\",\"prediction as bowler_cluster\")\n",
    "bowling_prob_clus=bowling_prob_clus.join(df_pred,df_pred.player_name==bowling_prob_clus.batsman,'leftouter').select(bowling_prob_clus[\"*\"],df_pred[\"prediction\"])\n",
    "bowling_prob_clus=bowling_prob_clus.selectExpr(\"index as index\",\"batsman as batsman\",\"bowler as bowler\",\"no_of_times as no_of_times\",\"no_of_balls as no_of_balls\",\"p_out as p_out\",\"p_not_out as p_not_out\",\"bowler_cluster as bowler_cluster\",\"prediction as batsman_cluster\")\n",
    "batting_prob_clus.show()\n",
    "# bowling_prob_clus.show()\n",
    "# pddf_pred = bowling_prob_clus.toPandas()\n",
    "# pddf_pred1 = bowling_prob.toPandas()\n",
    "# print(pddf_pred.shape)\n",
    "# print(pddf_pred1.shape)\n",
    "# print(pddf_pred)\n"
   ]
  },
  {
   "cell_type": "code",
   "execution_count": 16,
   "metadata": {},
   "outputs": [],
   "source": [
    "pd_bowling_prob=bowling_prob_clus.toPandas()\n",
    "pd_batting_prob=batting_prob_clus.toPandas()"
   ]
  },
  {
   "cell_type": "code",
   "execution_count": 17,
   "metadata": {},
   "outputs": [],
   "source": [
    "pd_batting_prob.to_csv(\"/home/anup/bdProject/bd/pd_batting_prob.csv\")\n",
    "pd_bowling_prob.to_csv(\"/home/anup/bdProject/bd/pd_bowling_prob.csv\")\n"
   ]
  },
  {
   "cell_type": "code",
   "execution_count": 18,
   "metadata": {},
   "outputs": [],
   "source": [
    "df=pd.read_csv('/home/anup/bdProject/bd/pd_batting_prob.csv')\n",
    "df2=pd.read_csv('/home/anup/bdProject/bd/pd_bowling_prob.csv')\n"
   ]
  },
  {
   "cell_type": "code",
   "execution_count": 19,
   "metadata": {},
   "outputs": [],
   "source": [
    "#res=df.groupby(['player_out','bowler'])['wicket_kind'].count().reset_index(name='number_of_times')\n",
    "res = df.groupby([\"bowler_cluster\",\"batsman_cluster\"])['P0','P1','P2','P3','P4','P6'].mean().round(2).reset_index()\n",
    "res2 = df2.groupby([\"bowler_cluster\",\"batsman_cluster\"])['p_not_out'].mean().round(2).reset_index()"
   ]
  },
  {
   "cell_type": "code",
   "execution_count": 20,
   "metadata": {},
   "outputs": [],
   "source": [
    "ref = df.groupby([\"batsman\",\"bowler\"])['P0','P1','P2','P3','P4','P6'].mean().round(2).reset_index()\n",
    "ref2 = df2.groupby([\"batsman\",\"bowler\"])['p_not_out'].mean().round(2).reset_index()"
   ]
  },
  {
   "cell_type": "code",
   "execution_count": 21,
   "metadata": {},
   "outputs": [],
   "source": [
    "final_ref=ref\n",
    "final_ref=final_ref.merge(ref2,how='outer',left_on=[\"batsman\",\"bowler\"],right_on=[\"batsman\",\"bowler\"])"
   ]
  },
  {
   "cell_type": "code",
   "execution_count": 22,
   "metadata": {},
   "outputs": [],
   "source": [
    "final=res\n",
    "final['p_not_out']=res2['p_not_out']"
   ]
  },
  {
   "cell_type": "code",
   "execution_count": 23,
   "metadata": {},
   "outputs": [],
   "source": [
    "final_ref.to_csv('/home/anup/bdProject/bd/pp_prob.csv',index=None)\n",
    "final.to_csv('/home/anup/bdProject/bd/clusters_prob.csv',index=None)"
   ]
  },
  {
   "cell_type": "code",
   "execution_count": 85,
   "metadata": {},
   "outputs": [],
   "source": [
    "#--------------------------"
   ]
  },
  {
   "cell_type": "code",
   "execution_count": null,
   "metadata": {},
   "outputs": [],
   "source": []
  },
  {
   "cell_type": "code",
   "execution_count": null,
   "metadata": {},
   "outputs": [],
   "source": []
  }
 ],
 "metadata": {
  "kernelspec": {
   "display_name": "Python3.5",
   "language": "python",
   "name": "python3.5"
  },
  "language_info": {
   "codemirror_mode": {
    "name": "ipython",
    "version": 3
   },
   "file_extension": ".py",
   "mimetype": "text/x-python",
   "name": "python",
   "nbconvert_exporter": "python",
   "pygments_lexer": "ipython3",
   "version": "3.5.6"
  }
 },
 "nbformat": 4,
 "nbformat_minor": 2
}
