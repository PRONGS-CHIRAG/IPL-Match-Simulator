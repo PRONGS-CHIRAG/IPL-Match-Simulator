{
 "cells": [
  {
   "cell_type": "code",
   "execution_count": 1,
   "metadata": {},
   "outputs": [],
   "source": [
    "\n",
    "from __future__ import print_function\n",
    "from pyspark import SparkContext\n",
    "# $example on$\n",
    "from pyspark.mllib.tree import DecisionTree, DecisionTreeModel\n",
    "from pyspark.mllib.regression import LabeledPoint\n",
    "from numpy import array\n",
    "\n",
    "sc.stop()\n",
    "if __name__ == \"__main__\":\n",
    "\n",
    "\tsc = SparkContext(appName=\"PythonDecisionTreeRegressionExample\")\n",
    "\tsc.setLogLevel(\"ERROR\")\n",
    "\t\t\n",
    "\tdef createlabeledpoints(f):\n",
    "\t\tb1c=int(f[0])\n",
    "\t\tb1s=float(f[1])\n",
    "\t\tb1a=float(f[2])\n",
    "\t\tb2c=int(f[3])\n",
    "\t\tb2s=float(f[4])\n",
    "\t\tb2a=float(f[5])\n",
    "\t\tblc=int(f[6])\n",
    "\t\tblw=float(f[7])\n",
    "\t\tbla=float(f[8])\n",
    "\t\tr=int(f[9])\n",
    "\t\tw=int(f[10])\n",
    "\t\treturn LabeledPoint(r,[b1c,b1s,b1a,b2c,b2s,b2a,blc,blw,bla])\n",
    "\tdef createlabeledpoints2(f):\n",
    "\t\tb1c=int(f[0])\n",
    "\t\tb1s=float(f[1])\n",
    "\t\tb1a=float(f[2])\n",
    "\t\tb2c=int(f[3])\n",
    "\t\tb2s=float(f[4])\n",
    "\t\tb2a=float(f[5])\n",
    "\t\tblc=int(f[6])\n",
    "\t\tblw=float(f[7])\n",
    "\t\tbla=float(f[8])\n",
    "\t\tr=int(f[9])\n",
    "\t\tw=int(f[10])\n",
    "\t\treturn LabeledPoint(w,[b1c,b1s,b1a,b2c,b2s,b2a,blc,blw,bla])\n",
    "\t\t\n",
    "\t\t\n",
    "\tdata = sc.textFile(\"/home/anup/Downloads/hopeyoudontforwardthistoanyone/output.csv\")\n",
    "\tcsvdata=data.map(lambda x:x.split(\",\"))\n",
    "\ttrainingdata1=csvdata.map(createlabeledpoints)\n",
    "\ttrainingdata2=csvdata.map(createlabeledpoints2)\n",
    "\tmodel1 = DecisionTree.trainRegressor(trainingdata1, categoricalFeaturesInfo={0:10,3:10,6:10},impurity='variance',maxDepth=14, maxBins=30)\n",
    "\tmodel2 = DecisionTree.trainRegressor(trainingdata2, categoricalFeaturesInfo={0:10,3:10,6:10},impurity='variance',maxDepth=14, maxBins=30)\n",
    "\tmodel1.save(sc, \"runs\")\n",
    "\tmodel2.save(sc, \"wickets\")\n",
    "\tsc.stop()\n"
   ]
  },
  {
   "cell_type": "code",
   "execution_count": null,
   "metadata": {
    "scrolled": true
   },
   "outputs": [],
   "source": []
  },
  {
   "cell_type": "code",
   "execution_count": null,
   "metadata": {},
   "outputs": [],
   "source": []
  },
  {
   "cell_type": "code",
   "execution_count": null,
   "metadata": {},
   "outputs": [],
   "source": []
  }
 ],
 "metadata": {
  "kernelspec": {
   "display_name": "Python3.5",
   "language": "python",
   "name": "python3.5"
  },
  "language_info": {
   "codemirror_mode": {
    "name": "ipython",
    "version": 3
   },
   "file_extension": ".py",
   "mimetype": "text/x-python",
   "name": "python",
   "nbconvert_exporter": "python",
   "pygments_lexer": "ipython3",
   "version": "3.5.6"
  }
 },
 "nbformat": 4,
 "nbformat_minor": 2
}
